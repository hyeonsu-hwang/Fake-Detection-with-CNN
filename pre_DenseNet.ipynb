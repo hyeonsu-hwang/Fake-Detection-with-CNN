{
  "nbformat": 4,
  "nbformat_minor": 0,
  "metadata": {
    "colab": {
      "provenance": [],
      "machine_shape": "hm"
    },
    "kernelspec": {
      "name": "python3",
      "display_name": "Python 3"
    },
    "language_info": {
      "name": "python"
    },
    "accelerator": "GPU",
    "gpuClass": "premium"
  },
  "cells": [
    {
      "cell_type": "code",
      "execution_count": null,
      "metadata": {
        "id": "uTU1bC9TTio4"
      },
      "outputs": [],
      "source": [
        "### densenet \n",
        "import os\n",
        "import tensorflow as tf\n",
        "import keras\n",
        "\n",
        "from tensorflow.keras import layers, models, backend, utils, metrics\n",
        "from tensorflow.keras.preprocessing.image import ImageDataGenerator"
      ]
    },
    {
      "cell_type": "code",
      "source": [
        "#코랩 마운트\n",
        "from google.colab import drive\n",
        "drive.mount('/content/drive/', force_remount=True)"
      ],
      "metadata": {
        "colab": {
          "base_uri": "https://localhost:8080/"
        },
        "id": "FClNQKzsTnZE",
        "outputId": "05eec753-4378-44c6-cf3e-11926b669c57"
      },
      "execution_count": null,
      "outputs": [
        {
          "output_type": "stream",
          "name": "stdout",
          "text": [
            "Mounted at /content/drive/\n"
          ]
        }
      ]
    },
    {
      "cell_type": "code",
      "source": [
        "%cd /content/drive/MyDrive/face2"
      ],
      "metadata": {
        "colab": {
          "base_uri": "https://localhost:8080/"
        },
        "id": "p3lZ7PzIUGDv",
        "outputId": "6036c83c-3ab5-4260-c686-0c7b43686018"
      },
      "execution_count": null,
      "outputs": [
        {
          "output_type": "stream",
          "name": "stdout",
          "text": [
            "/content/drive/MyDrive/face2\n"
          ]
        }
      ]
    },
    {
      "cell_type": "code",
      "source": [
        "#압축해제\n",
        "#!unzip -qq \"/content/drive/MyDrive/r-vs-f.zip\""
      ],
      "metadata": {
        "id": "9H6Tki-WUHRm"
      },
      "execution_count": null,
      "outputs": []
    },
    {
      "cell_type": "code",
      "source": [
        "#개수 확인(14만개 중 1/10사용)\n",
        "from glob import glob\n",
        "filepaths1 = list(glob('/content/drive/MyDrive/face2/train/real/*.jpg'))\n",
        "filepaths2 = list(glob('/content/drive/MyDrive/face2/test/real/*.jpg'))\n",
        "filepaths3 = list(glob('/content/drive/MyDrive/face2/valid/real/*.jpg'))\n",
        "print(len(filepaths1), len(filepaths2), len(filepaths3))"
      ],
      "metadata": {
        "colab": {
          "base_uri": "https://localhost:8080/"
        },
        "id": "cD-NCwQPTotd",
        "outputId": "4c1d2fa3-7007-44c4-c3b1-c53c19a0de65"
      },
      "execution_count": null,
      "outputs": [
        {
          "output_type": "stream",
          "name": "stdout",
          "text": [
            "5000 1000 1000\n"
          ]
        }
      ]
    },
    {
      "cell_type": "code",
      "source": [
        "#데이터 경로 지정 등 설정\n",
        "from tensorflow.keras.preprocessing.image import ImageDataGenerator\n",
        "\n",
        "image_gen = ImageDataGenerator()\n",
        "\n",
        "path = '/content/drive/My Drive/face2/'\n",
        "\n",
        "train_generator = image_gen.flow_from_directory(\n",
        "    path + 'train/',\n",
        "    target_size=(224, 224),\n",
        "    batch_size=64,\n",
        "    color_mode='rgb',\n",
        "    class_mode='binary'\n",
        ")\n",
        "\n",
        "valid_generator = image_gen.flow_from_directory(\n",
        "    path + 'valid/',\n",
        "    target_size=(224, 224),\n",
        "    batch_size=64,\n",
        "    color_mode='rgb',\n",
        "    class_mode='binary'\n",
        ")\n",
        "\n",
        "test_generator = image_gen.flow_from_directory(\n",
        "    path + 'test/',\n",
        "    target_size=(224, 224),\n",
        "    batch_size=64,\n",
        "    color_mode='rgb',\n",
        "    shuffle = False,\n",
        "    class_mode='binary'\n",
        ")"
      ],
      "metadata": {
        "colab": {
          "base_uri": "https://localhost:8080/"
        },
        "id": "DKW_FzeEToxK",
        "outputId": "50520aeb-6200-4c02-8dc2-78c40cf3e798"
      },
      "execution_count": null,
      "outputs": [
        {
          "output_type": "stream",
          "name": "stdout",
          "text": [
            "Found 10000 images belonging to 2 classes.\n",
            "Found 2000 images belonging to 2 classes.\n",
            "Found 2000 images belonging to 2 classes.\n"
          ]
        }
      ]
    },
    {
      "cell_type": "code",
      "source": [
        "#densenet import 및 모델링\n",
        "from tensorflow.keras.applications import DenseNet121\n",
        "\n",
        "densenet = DenseNet121( weights='imagenet', include_top=False, input_shape=(224,224,3) )\n",
        "\n",
        "model = models.Sequential()\n",
        "\n",
        "model = models.Sequential([ \n",
        "        densenet,\n",
        "        layers.GlobalAveragePooling2D(),\n",
        "        layers.Dense(1, activation='sigmoid')\n",
        "    ])\n",
        "\n",
        "model.compile(loss='binary_crossentropy', optimizer='Adam', metrics=['accuracy'])\n",
        "\n",
        "model.summary()"
      ],
      "metadata": {
        "colab": {
          "base_uri": "https://localhost:8080/"
        },
        "id": "euBVNpcWTr0O",
        "outputId": "eb1bd7d1-9aa8-4f50-f6fa-fbfb1e540639"
      },
      "execution_count": null,
      "outputs": [
        {
          "output_type": "stream",
          "name": "stdout",
          "text": [
            "Downloading data from https://storage.googleapis.com/tensorflow/keras-applications/densenet/densenet121_weights_tf_dim_ordering_tf_kernels_notop.h5\n",
            "29084464/29084464 [==============================] - 0s 0us/step\n",
            "Model: \"sequential_1\"\n",
            "_________________________________________________________________\n",
            " Layer (type)                Output Shape              Param #   \n",
            "=================================================================\n",
            " densenet121 (Functional)    (None, 7, 7, 1024)        7037504   \n",
            "                                                                 \n",
            " global_average_pooling2d (G  (None, 1024)             0         \n",
            " lobalAveragePooling2D)                                          \n",
            "                                                                 \n",
            " dense (Dense)               (None, 1)                 1025      \n",
            "                                                                 \n",
            "=================================================================\n",
            "Total params: 7,038,529\n",
            "Trainable params: 6,954,881\n",
            "Non-trainable params: 83,648\n",
            "_________________________________________________________________\n"
          ]
        }
      ]
    },
    {
      "cell_type": "code",
      "source": [
        "#모델 학습\n",
        "train_steps = 10000//64\n",
        "valid_steps = 2000//64\n",
        "\n",
        "hist = model.fit(\n",
        "    train_generator,\n",
        "    epochs=20,\n",
        "    validation_data=valid_generator,\n",
        "    validation_steps=valid_steps\n",
        ")"
      ],
      "metadata": {
        "colab": {
          "base_uri": "https://localhost:8080/"
        },
        "id": "hOV5I-pZTtj8",
        "outputId": "5928a58e-8575-49bf-b45c-038a64d4475d"
      },
      "execution_count": null,
      "outputs": [
        {
          "output_type": "stream",
          "name": "stdout",
          "text": [
            "Epoch 1/20\n",
            "157/157 [==============================] - 60s 235ms/step - loss: 0.3516 - accuracy: 0.8451 - val_loss: 2.0477 - val_accuracy: 0.5912\n",
            "Epoch 2/20\n",
            "157/157 [==============================] - 34s 216ms/step - loss: 0.1506 - accuracy: 0.9410 - val_loss: 0.5308 - val_accuracy: 0.7923\n",
            "Epoch 3/20\n",
            "157/157 [==============================] - 33s 212ms/step - loss: 0.0928 - accuracy: 0.9642 - val_loss: 0.2606 - val_accuracy: 0.9224\n",
            "Epoch 4/20\n",
            "157/157 [==============================] - 33s 212ms/step - loss: 0.0734 - accuracy: 0.9739 - val_loss: 0.6135 - val_accuracy: 0.8140\n",
            "Epoch 5/20\n",
            "157/157 [==============================] - 33s 211ms/step - loss: 0.0526 - accuracy: 0.9815 - val_loss: 0.9963 - val_accuracy: 0.6648\n",
            "Epoch 6/20\n",
            "157/157 [==============================] - 34s 215ms/step - loss: 0.0459 - accuracy: 0.9824 - val_loss: 0.2038 - val_accuracy: 0.9259\n",
            "Epoch 7/20\n",
            "157/157 [==============================] - 34s 216ms/step - loss: 0.0452 - accuracy: 0.9850 - val_loss: 1.7304 - val_accuracy: 0.6724\n",
            "Epoch 8/20\n",
            "157/157 [==============================] - 34s 215ms/step - loss: 0.0408 - accuracy: 0.9844 - val_loss: 0.1757 - val_accuracy: 0.9335\n",
            "Epoch 9/20\n",
            "157/157 [==============================] - 34s 215ms/step - loss: 0.0238 - accuracy: 0.9910 - val_loss: 0.3906 - val_accuracy: 0.8921\n",
            "Epoch 10/20\n",
            "157/157 [==============================] - 34s 215ms/step - loss: 0.0398 - accuracy: 0.9853 - val_loss: 1.6256 - val_accuracy: 0.6184\n",
            "Epoch 11/20\n",
            "157/157 [==============================] - 35s 223ms/step - loss: 0.0240 - accuracy: 0.9906 - val_loss: 0.2968 - val_accuracy: 0.9153\n",
            "Epoch 12/20\n",
            "157/157 [==============================] - 33s 211ms/step - loss: 0.0275 - accuracy: 0.9895 - val_loss: 0.3472 - val_accuracy: 0.8982\n",
            "Epoch 13/20\n",
            "157/157 [==============================] - 33s 212ms/step - loss: 0.0310 - accuracy: 0.9882 - val_loss: 2.3670 - val_accuracy: 0.6245\n",
            "Epoch 14/20\n",
            "157/157 [==============================] - 34s 214ms/step - loss: 0.0379 - accuracy: 0.9869 - val_loss: 1.7752 - val_accuracy: 0.6875\n",
            "Epoch 15/20\n",
            "157/157 [==============================] - 33s 212ms/step - loss: 0.0138 - accuracy: 0.9949 - val_loss: 0.1483 - val_accuracy: 0.9486\n",
            "Epoch 16/20\n",
            "157/157 [==============================] - 34s 214ms/step - loss: 0.0158 - accuracy: 0.9945 - val_loss: 0.1327 - val_accuracy: 0.9577\n",
            "Epoch 17/20\n",
            "157/157 [==============================] - 33s 211ms/step - loss: 0.0217 - accuracy: 0.9926 - val_loss: 0.4273 - val_accuracy: 0.9083\n",
            "Epoch 18/20\n",
            "157/157 [==============================] - 34s 213ms/step - loss: 0.0257 - accuracy: 0.9907 - val_loss: 0.7248 - val_accuracy: 0.7777\n",
            "Epoch 19/20\n",
            "157/157 [==============================] - 34s 214ms/step - loss: 0.0108 - accuracy: 0.9962 - val_loss: 0.2357 - val_accuracy: 0.9284\n",
            "Epoch 20/20\n",
            "157/157 [==============================] - 34s 219ms/step - loss: 0.0278 - accuracy: 0.9889 - val_loss: 0.2155 - val_accuracy: 0.9259\n"
          ]
        }
      ]
    },
    {
      "cell_type": "code",
      "source": [
        "#acc 및 loss plot\n",
        "import matplotlib.pyplot as plt\n",
        "import seaborn as sns\n",
        "from sklearn import metrics\n",
        "\n",
        "fig, ax = plt.subplots(1, 4, figsize=(20, 3))\n",
        "ax = ax.ravel()\n",
        "\n",
        "for i, met in enumerate([ \"accuracy\", \"loss\"]):\n",
        "    ax[i].plot(hist.history[met])\n",
        "    ax[i].plot(hist.history[\"val_\" + met])\n",
        "    ax[i].set_title(\"Model {}\".format(met))\n",
        "    ax[i].set_xlabel(\"epochs\")\n",
        "    ax[i].set_ylabel(met)\n",
        "    ax[i].legend([\"train\", \"val\"])"
      ],
      "metadata": {
        "colab": {
          "base_uri": "https://localhost:8080/",
          "height": 241
        },
        "id": "T3l_-JavTvDi",
        "outputId": "0f884be1-ab03-404e-8f05-9b87c22abaa1"
      },
      "execution_count": null,
      "outputs": [
        {
          "output_type": "display_data",
          "data": {
            "text/plain": [
              "<Figure size 1440x216 with 4 Axes>"
            ],
            "image/png": "[encoded data removed]"
          },
          "metadata": {
            "needs_background": "light"
          }
        }
      ]
    },
    {
      "cell_type": "code",
      "source": [
        "#test 평가\n",
        "model.evaluate(test_generator)"
      ],
      "metadata": {
        "colab": {
          "base_uri": "https://localhost:8080/"
        },
        "id": "DHxwQXAzTwXM",
        "outputId": "c6b426f8-bccc-4a81-9823-0fe075e50868"
      },
      "execution_count": null,
      "outputs": [
        {
          "output_type": "stream",
          "name": "stdout",
          "text": [
            "32/32 [==============================] - 6s 170ms/step - loss: 0.1979 - accuracy: 0.9345\n"
          ]
        },
        {
          "output_type": "execute_result",
          "data": {
            "text/plain": [
              "[0.19785426557064056, 0.934499979019165]"
            ]
          },
          "metadata": {},
          "execution_count": 10
        }
      ]
    },
    {
      "cell_type": "code",
      "source": [
        "#이미지 대입\n",
        "import numpy as np\n",
        "import matplotlib.pyplot as plt\n",
        "import keras.utils as image\n",
        "\n",
        "test_image = image.load_img('/content/drive/MyDrive/11/fake2.jpg', target_size=(224, 224, 3))\n",
        "plt.imshow(test_image)\n",
        "\n",
        "fix_img = image.img_to_array(test_image)\n",
        "fix_img = np.expand_dims(test_image, axis=0)"
      ],
      "metadata": {
        "id": "sKmnEA9Ku-qq"
      },
      "execution_count": null,
      "outputs": []
    },
    {
      "cell_type": "code",
      "source": [
        "#사진이 real인지 fake인지 출력\n",
        "preds = model.predict(fix_img)\n",
        "pct = np.max(preds)\n",
        "if preds < 0.5:\n",
        "    print('The Prediction of the sample is: It Is fake')\n",
        "else:\n",
        "    print('Prediction is real')\n",
        "plt.imshow(test_image)"
      ],
      "metadata": {
        "id": "FADvQ2oVuvvN"
      },
      "execution_count": null,
      "outputs": []
    },
    {
      "cell_type": "code",
      "source": [
        "#혼동행렬\n",
        "y_pred = model.predict(test_generator)\n",
        "y_pred = (y_pred > 0.5).astype(np.int)\n",
        "\n",
        "plt.figure(figsize = (8,5))\n",
        "sns.heatmap(metrics.confusion_matrix(test_generator.classes, y_pred.round()), annot = True,fmt=\"d\",cmap = \"Blues\")\n",
        "plt.show()"
      ],
      "metadata": {
        "id": "SUfsknBwT0Gq"
      },
      "execution_count": null,
      "outputs": []
    },
    {
      "cell_type": "code",
      "source": [
        "#AUC\n",
        "print(\"ROC-AUC Score:\", metrics.roc_auc_score(test_generator.classes, y_pred))\n",
        "print(\"AP Score:\", metrics.average_precision_score(test_generator.classes, y_pred))\n",
        "\n",
        "print(metrics.classification_report(test_generator.classes, y_pred > 0.5))"
      ],
      "metadata": {
        "id": "msL6Ur2iT1tK"
      },
      "execution_count": null,
      "outputs": []
    }
  ]
}