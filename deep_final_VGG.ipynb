{
  "nbformat": 4,
  "nbformat_minor": 0,
  "metadata": {
    "colab": {
      "provenance": [],
      "machine_shape": "hm"
    },
    "kernelspec": {
      "name": "python3",
      "display_name": "Python 3"
    },
    "language_info": {
      "name": "python"
    },
    "gpuClass": "premium"
  },
  "cells": [
    {
      "cell_type": "markdown",
      "source": [
        "## VGG"
      ],
      "metadata": {
        "id": "xMEoPXKIljct"
      }
    },
    {
      "cell_type": "code",
      "execution_count": null,
      "metadata": {
        "id": "mFiNFG2lK-Vu"
      },
      "outputs": [],
      "source": [
        "### VGG"
      ]
    },
    {
      "cell_type": "code",
      "source": [
        "from google.colab import drive\n",
        "drive.mount('/content/drive')"
      ],
      "metadata": {
        "colab": {
          "base_uri": "https://localhost:8080/"
        },
        "id": "vc_I_iAUo840",
        "outputId": "09ef77d0-5c39-48e2-8b42-adaf51e96767"
      },
      "execution_count": null,
      "outputs": [
        {
          "output_type": "stream",
          "name": "stdout",
          "text": [
            "Mounted at /content/drive\n"
          ]
        }
      ]
    },
    {
      "cell_type": "code",
      "source": [
        "import os\n",
        "import tensorflow as tf\n",
        "import keras\n",
        "\n",
        "from tensorflow.keras import layers, models, backend, utils, metrics"
      ],
      "metadata": {
        "id": "gbMfpNagLNeR"
      },
      "execution_count": null,
      "outputs": []
    },
    {
      "cell_type": "code",
      "source": [
        "#코랩 마운트\n",
        "from google.colab import drive\n",
        "drive.mount('/content/drive/', force_remount=True)"
      ],
      "metadata": {
        "colab": {
          "base_uri": "https://localhost:8080/"
        },
        "id": "mk_jb1rdLO_Q",
        "outputId": "cf935357-797f-4865-f71f-1f33a810bc7c"
      },
      "execution_count": null,
      "outputs": [
        {
          "output_type": "stream",
          "name": "stdout",
          "text": [
            "Mounted at /content/drive/\n"
          ]
        }
      ]
    },
    {
      "cell_type": "code",
      "source": [
        "%cd /content/drive/MyDrive/face"
      ],
      "metadata": {
        "colab": {
          "base_uri": "https://localhost:8080/"
        },
        "id": "rgfxm-BNY5MG",
        "outputId": "0f99e9ac-cd8f-4f93-d663-23dcb840435a"
      },
      "execution_count": null,
      "outputs": [
        {
          "output_type": "stream",
          "name": "stdout",
          "text": [
            "/content/drive/MyDrive/face\n"
          ]
        }
      ]
    },
    {
      "cell_type": "code",
      "source": [
        "#압축해제\n",
        "#!unzip -qq \"/content/drive/MyDrive/face/real-vs-fake.zip\""
      ],
      "metadata": {
        "id": "Whw-oEBYY_jf"
      },
      "execution_count": null,
      "outputs": []
    },
    {
      "cell_type": "code",
      "source": [
        "#VGG import 및 입력크기 지정\n",
        "from keras.applications.vgg16 import VGG16\n",
        "\n",
        "INPUT_SIZE = 224\n",
        "vgg16 = VGG16(include_top=False, weights='imagenet', input_shape=(INPUT_SIZE, INPUT_SIZE,3))"
      ],
      "metadata": {
        "id": "BkyLPPC8hpa5",
        "colab": {
          "base_uri": "https://localhost:8080/"
        },
        "outputId": "63b51247-2a58-4971-893f-0bb071017b78"
      },
      "execution_count": null,
      "outputs": [
        {
          "output_type": "stream",
          "name": "stdout",
          "text": [
            "Downloading data from https://storage.googleapis.com/tensorflow/keras-applications/vgg16/vgg16_weights_tf_dim_ordering_tf_kernels_notop.h5\n",
            "58889256/58889256 [==============================] - 2s 0us/step\n"
          ]
        }
      ]
    },
    {
      "cell_type": "code",
      "source": [
        "#가져와서(전이학습) 고정된 층 학습시키않도록 함\n",
        "for layer in vgg16.layers:\n",
        "  layer.trainable = False"
      ],
      "metadata": {
        "id": "Xt6XoqoAhsVf"
      },
      "execution_count": null,
      "outputs": []
    },
    {
      "cell_type": "code",
      "source": [
        "#구조 생성\n",
        "from keras.models import Model\n",
        "from keras.layers import Dense, Flatten\n",
        "\n",
        "input_ = vgg16.input\n",
        "output_ = vgg16(input_)\n",
        "last_layer = Flatten(name='flatten')(output_)\n",
        "last_layer = Dense(1, activation='sigmoid')(last_layer)\n",
        "model = Model(inputs=input_, outputs=last_layer)"
      ],
      "metadata": {
        "id": "DUOfYOFEhuDT"
      },
      "execution_count": null,
      "outputs": []
    },
    {
      "cell_type": "code",
      "source": [
        "# Define hyperparameters\n",
        "INPUT_SIZE = 224 #Change this to 48 if the code is taking too long to run\n",
        "BATCH_SIZE = 16\n",
        "STEPS_PER_EPOCH = 200\n",
        "EPOCHS = 10"
      ],
      "metadata": {
        "id": "TZBZV2_Qhve4"
      },
      "execution_count": null,
      "outputs": []
    },
    {
      "cell_type": "code",
      "source": [
        "#개수 확인(14만개 사용)\n",
        "from glob import glob\n",
        "filepaths1 = list(glob('/content/drive/MyDrive/face/train/real/*.jpg'))\n",
        "filepaths2 = list(glob('/content/drive/MyDrive/face/test/real/*.jpg'))\n",
        "filepaths3 = list(glob('/content/drive/MyDrive/face/valid/real/*.jpg'))\n",
        "print(len(filepaths1), len(filepaths2), len(filepaths3))"
      ],
      "metadata": {
        "colab": {
          "base_uri": "https://localhost:8080/"
        },
        "id": "tup-Aoo3hxNh",
        "outputId": "204efa26-5cf2-42b1-8455-2e01f0621b0e"
      },
      "execution_count": null,
      "outputs": [
        {
          "output_type": "stream",
          "name": "stdout",
          "text": [
            "50000 10000 10000\n"
          ]
        }
      ]
    },
    {
      "cell_type": "code",
      "source": [
        "#데이터 경로 지정 등 설정\n",
        "from keras.preprocessing.image import ImageDataGenerator\n",
        "path = '/content/drive/MyDrive/face/'\n",
        "\n",
        "model.compile(optimizer = 'adam', loss = 'binary_crossentropy', metrics = ['accuracy'])\n",
        "\n",
        "training_data_generator = ImageDataGenerator(rescale = 1./255)\n",
        "validing_data_generator = ImageDataGenerator(rescale = 1./255)\n",
        "testing_data_generator = ImageDataGenerator(rescale = 1./255)\n",
        "\n",
        "train_generator = training_data_generator.flow_from_directory(\n",
        "    path + 'train/',\n",
        "    target_size=(INPUT_SIZE, INPUT_SIZE),\n",
        "    batch_size=BATCH_SIZE,\n",
        "    class_mode='binary'\n",
        ")\n",
        "\n",
        "valid_generator = validing_data_generator.flow_from_directory(\n",
        "    path + 'valid/',\n",
        "    target_size=(INPUT_SIZE, INPUT_SIZE),\n",
        "    batch_size=BATCH_SIZE,\n",
        "    class_mode='binary'\n",
        ")\n",
        "\n",
        "test_generator = testing_data_generator.flow_from_directory(\n",
        "    path + 'test/',\n",
        "    target_size=(INPUT_SIZE, INPUT_SIZE),\n",
        "    batch_size=BATCH_SIZE,\n",
        "    shuffle = False,\n",
        "    class_mode='binary'\n",
        ")"
      ],
      "metadata": {
        "colab": {
          "base_uri": "https://localhost:8080/"
        },
        "id": "2YA-WArkhyuU",
        "outputId": "deaf45a0-8057-4580-a71d-c875b6a44562"
      },
      "execution_count": null,
      "outputs": [
        {
          "output_type": "stream",
          "name": "stdout",
          "text": [
            "Found 100000 images belonging to 2 classes.\n",
            "Found 20000 images belonging to 2 classes.\n",
            "Found 20000 images belonging to 2 classes.\n"
          ]
        }
      ]
    },
    {
      "cell_type": "code",
      "source": [
        "#모델 학습\n",
        "train_steps = 100000//16\n",
        "valid_steps = 20000//16\n",
        "\n",
        "hist = model.fit(\n",
        "    train_generator,\n",
        "    steps_per_epoch = STEPS_PER_EPOCH,\n",
        "    epochs=EPOCHS,\n",
        "    validation_data=valid_generator,\n",
        "    validation_steps=valid_steps\n",
        ")"
      ],
      "metadata": {
        "colab": {
          "base_uri": "https://localhost:8080/"
        },
        "id": "HHDJ7rwqie9c",
        "outputId": "9c219bf4-d59b-4a83-99c9-91415bd32674"
      },
      "execution_count": null,
      "outputs": [
        {
          "output_type": "stream",
          "name": "stdout",
          "text": [
            "Epoch 1/10\n",
            "200/200 [==============================] - 91s 408ms/step - loss: 0.6034 - accuracy: 0.7006 - val_loss: 0.5333 - val_accuracy: 0.7283\n",
            "Epoch 2/10\n",
            "200/200 [==============================] - 64s 322ms/step - loss: 0.4981 - accuracy: 0.7631 - val_loss: 0.4571 - val_accuracy: 0.7814\n",
            "Epoch 3/10\n",
            "200/200 [==============================] - 64s 323ms/step - loss: 0.4667 - accuracy: 0.7856 - val_loss: 0.5672 - val_accuracy: 0.7282\n",
            "Epoch 4/10\n",
            "200/200 [==============================] - 64s 322ms/step - loss: 0.4117 - accuracy: 0.8172 - val_loss: 0.5181 - val_accuracy: 0.7640\n",
            "Epoch 5/10\n",
            "200/200 [==============================] - 64s 322ms/step - loss: 0.4385 - accuracy: 0.8019 - val_loss: 0.4501 - val_accuracy: 0.7991\n",
            "Epoch 6/10\n",
            "200/200 [==============================] - 64s 322ms/step - loss: 0.4004 - accuracy: 0.8163 - val_loss: 0.4099 - val_accuracy: 0.8137\n",
            "Epoch 7/10\n",
            "200/200 [==============================] - 65s 324ms/step - loss: 0.4061 - accuracy: 0.8231 - val_loss: 0.3683 - val_accuracy: 0.8389\n",
            "Epoch 8/10\n",
            "200/200 [==============================] - 67s 336ms/step - loss: 0.4039 - accuracy: 0.8259 - val_loss: 0.3681 - val_accuracy: 0.8364\n",
            "Epoch 9/10\n",
            "200/200 [==============================] - 66s 332ms/step - loss: 0.4199 - accuracy: 0.8159 - val_loss: 0.4454 - val_accuracy: 0.8020\n",
            "Epoch 10/10\n",
            "200/200 [==============================] - 64s 322ms/step - loss: 0.3612 - accuracy: 0.8431 - val_loss: 0.4308 - val_accuracy: 0.8138\n"
          ]
        }
      ]
    },
    {
      "cell_type": "code",
      "source": [
        "#acc 및 loss plot\n",
        "import matplotlib.pyplot as plt\n",
        "import seaborn as sns\n",
        "from sklearn import metrics\n",
        "\n",
        "fig, ax = plt.subplots(1, 4, figsize=(20, 3))\n",
        "ax = ax.ravel()\n",
        "\n",
        "for i, met in enumerate([ \"accuracy\", \"loss\"]):\n",
        "    ax[i].plot(hist.history[met])\n",
        "    ax[i].plot(hist.history[\"val_\" + met])\n",
        "    ax[i].set_title(\"Model {}\".format(met))\n",
        "    ax[i].set_xlabel(\"epochs\")\n",
        "    ax[i].set_ylabel(met)\n",
        "    ax[i].legend([\"train\", \"val\"])"
      ],
      "metadata": {
        "colab": {
          "base_uri": "https://localhost:8080/",
          "height": 193
        },
        "id": "34vbL_b3lLc0",
        "outputId": "b91986c8-0f0d-418d-dbb4-10e2e7de7d03"
      },
      "execution_count": null,
      "outputs": [
        {
          "output_type": "display_data",
          "data": {
            "text/plain": [
              "<Figure size 1440x216 with 4 Axes>"
            ],
            "image/png": "[encoded data removed]"
          },
          "metadata": {
            "needs_background": "light"
          }
        }
      ]
    },
    {
      "cell_type": "code",
      "source": [
        "model.save(\"VGG\")"
      ],
      "metadata": {
        "colab": {
          "base_uri": "https://localhost:8080/"
        },
        "id": "n5HN1SMjkV45",
        "outputId": "100846f5-97d4-44cb-874c-c21e85a91ddb"
      },
      "execution_count": null,
      "outputs": [
        {
          "output_type": "stream",
          "name": "stderr",
          "text": [
            "WARNING:absl:Found untraced functions such as _jit_compiled_convolution_op, _jit_compiled_convolution_op, _jit_compiled_convolution_op, _jit_compiled_convolution_op, _jit_compiled_convolution_op while saving (showing 5 of 13). These functions will not be directly callable after loading.\n"
          ]
        }
      ]
    },
    {
      "cell_type": "code",
      "source": [
        "from tensorflow.keras.models import load_model\n",
        "model = load_model(\"VGG\")"
      ],
      "metadata": {
        "id": "YdUuzT1rkflp"
      },
      "execution_count": null,
      "outputs": []
    },
    {
      "cell_type": "code",
      "source": [
        "#test 평가\n",
        "model.evaluate(test_generator)"
      ],
      "metadata": {
        "colab": {
          "base_uri": "https://localhost:8080/"
        },
        "id": "U_uw2FsRlR4i",
        "outputId": "e8aad0af-9995-42c1-ff58-8c48e888ec78"
      },
      "execution_count": null,
      "outputs": [
        {
          "output_type": "stream",
          "name": "stdout",
          "text": [
            "1250/1250 [==============================] - 57s 46ms/step - loss: 0.4385 - accuracy: 0.8106\n"
          ]
        },
        {
          "output_type": "execute_result",
          "data": {
            "text/plain": [
              "[0.4385465681552887, 0.8106499910354614]"
            ]
          },
          "metadata": {},
          "execution_count": 16
        }
      ]
    }
  ]
}