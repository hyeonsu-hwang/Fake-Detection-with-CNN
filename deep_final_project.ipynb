{
  "nbformat": 4,
  "nbformat_minor": 0,
  "metadata": {
    "colab": {
      "provenance": [],
      "machine_shape": "hm",
      "collapsed_sections": [
        "T9oXNmXMk1HR",
        "8Q4MjXgRlnAM"
      ]
    },
    "kernelspec": {
      "name": "python3",
      "display_name": "Python 3"
    },
    "language_info": {
      "name": "python"
    },
    "accelerator": "GPU",
    "gpuClass": "premium"
  },
  "cells": [
    {
      "cell_type": "markdown",
      "source": [
        "## CNN_default"
      ],
      "metadata": {
        "id": "Wvfonk8DkRlA"
      }
    },
    {
      "cell_type": "code",
      "execution_count": null,
      "metadata": {
        "id": "2rq_RN2sj24q"
      },
      "outputs": [],
      "source": [
        "### CNN 기본\n",
        "\n",
        "import numpy as np\n",
        "import seaborn as sns\n",
        "from tensorflow.keras import layers\n",
        "from tensorflow.keras.preprocessing.image import ImageDataGenerator\n",
        "from tensorflow.keras.models import Sequential, Model, load_model\n",
        "from tensorflow.keras.optimizers import Adam\n",
        "from sklearn import metrics\n",
        "import tensorflow as tf\n",
        "\n",
        "import os\n",
        "import glob\n",
        "import pandas as pd\n",
        "import matplotlib.pyplot as plt"
      ]
    },
    {
      "cell_type": "code",
      "source": [
        "#코랩 마운트\n",
        "from google.colab import drive\n",
        "drive.mount('/content/drive/')"
      ],
      "metadata": {
        "id": "d-tYckvkvokA"
      },
      "execution_count": null,
      "outputs": []
    },
    {
      "cell_type": "code",
      "source": [
        "%cd \"/content/drive/My Drive/face\""
      ],
      "metadata": {
        "id": "624BCOHbvpwF"
      },
      "execution_count": null,
      "outputs": []
    },
    {
      "cell_type": "code",
      "source": [
        "#압축해제\n",
        "!unzip -qq \"/content/drive/MyDrive/real-vs-fake.zip\""
      ],
      "metadata": {
        "id": "Rfh3YcDzvq57"
      },
      "execution_count": null,
      "outputs": []
    },
    {
      "cell_type": "code",
      "source": [
        "# eda를 위해 데이터프레임 저장\n",
        "path = '/content/drive/My Drive/face/'\n",
        "\n",
        "dataset = {\"image_path\":[],\"img_status\":[],\"where\":[]}\n",
        "for where in os.listdir(path):\n",
        "    for status in os.listdir(path+\"/\"+where):\n",
        "        for image in glob.glob(path+where+\"/\"+status+\"/\"+\"*.jpg\"):\n",
        "            dataset[\"image_path\"].append(image)\n",
        "            dataset[\"img_status\"].append(status)\n",
        "            dataset[\"where\"].append(where)\n",
        "dataset = pd.DataFrame(dataset)\n",
        "dataset"
      ],
      "metadata": {
        "id": "-WXxNaq-vttj"
      },
      "execution_count": null,
      "outputs": []
    },
    {
      "cell_type": "code",
      "source": [
        "#막대 그래프 plot\n",
        "import seaborn as sns\n",
        "print(f\"Real: {real},\\nFake: {fake}\\n\")\n",
        "sns.countplot(dataset[\"img_status\"])\n",
        "plt.show()"
      ],
      "metadata": {
        "id": "4VrOrcgSvwz1"
      },
      "execution_count": null,
      "outputs": []
    },
    {
      "cell_type": "code",
      "source": [
        "#데이터 경로 지정 등 설정\n",
        "from tensorflow.keras import layers, models, backend, utils, metrics\n",
        "from tensorflow.keras.preprocessing.image import ImageDataGenerator\n",
        "\n",
        "image_gen = ImageDataGenerator()\n",
        "\n",
        "train_generator = image_gen.flow_from_directory(\n",
        "    path + 'train/',\n",
        "    target_size=(32, 32),\n",
        "    batch_size=64,\n",
        "    color_mode='grayscale',\n",
        "    class_mode='binary'\n",
        ")\n",
        "\n",
        "valid_generator = image_gen.flow_from_directory(\n",
        "    path + 'valid/',\n",
        "    target_size=(32, 32),\n",
        "    batch_size=64,\n",
        "    color_mode='grayscale',\n",
        "    class_mode='binary'\n",
        ")\n",
        "\n",
        "test_generator = image_gen.flow_from_directory(\n",
        "    path + 'test/',\n",
        "    target_size=(32, 32),\n",
        "    batch_size=64,\n",
        "    color_mode='grayscale',\n",
        "    shuffle = False,\n",
        "    class_mode='binary'\n",
        ")"
      ],
      "metadata": {
        "id": "fba0ZguZvzCU"
      },
      "execution_count": null,
      "outputs": []
    },
    {
      "cell_type": "code",
      "source": [
        "#구조 생성\n",
        "model = models.Sequential()\n",
        "\n",
        "model.add(layers.Conv2D(32, (3, 3),activation='relu', input_shape=(32, 32, 1)))\n",
        "model.add(layers.MaxPooling2D((2, 2)))\n",
        "model.add(layers.Conv2D(64, (3, 3), activation='relu'))\n",
        "model.add(layers.MaxPooling2D((2, 2)))\n",
        "model.add(layers.Flatten())\n",
        "model.add(layers.Dense(64, activation='relu'))\n",
        "model.add(layers.Dense(1, activation='sigmoid'))\n",
        "\n",
        "model.compile(loss='binary_crossentropy', optimizer='Adam', metrics=['accuracy'])\n",
        "\n",
        "model.summary()"
      ],
      "metadata": {
        "id": "uOZcn4A3v1cA"
      },
      "execution_count": null,
      "outputs": []
    },
    {
      "cell_type": "code",
      "source": [
        "#모델 학습\n",
        "train_steps = 100000//64\n",
        "valid_steps = 20000//64\n",
        "\n",
        "hist = model.fit_generator(\n",
        "    train_generator,\n",
        "    epochs=10,\n",
        "    validation_data=valid_generator,\n",
        "    validation_steps=valid_steps\n",
        ")"
      ],
      "metadata": {
        "id": "9M-a7V7Av3Sq"
      },
      "execution_count": null,
      "outputs": []
    },
    {
      "cell_type": "code",
      "source": [
        "#acc 및 loss plot\n",
        "import matplotlib.pyplot as plt\n",
        "import seaborn as sns\n",
        "from sklearn import metrics\n",
        "\n",
        "fig, ax = plt.subplots(1, 4, figsize=(20, 3))\n",
        "ax = ax.ravel()\n",
        "\n",
        "for i, met in enumerate([ \"accuracy\", \"loss\"]):\n",
        "    ax[i].plot(hist.history[met])\n",
        "    ax[i].plot(hist.history[\"val_\" + met])\n",
        "    ax[i].set_title(\"Model {}\".format(met))\n",
        "    ax[i].set_xlabel(\"epochs\")\n",
        "    ax[i].set_ylabel(met)\n",
        "    ax[i].legend([\"train\", \"val\"])"
      ],
      "metadata": {
        "id": "8GDL6XS4kNtO"
      },
      "execution_count": null,
      "outputs": []
    },
    {
      "cell_type": "code",
      "source": [
        "#test 평가\n",
        "model.evaluate(test_generator)"
      ],
      "metadata": {
        "id": "9lUw1uWjkPLw"
      },
      "execution_count": null,
      "outputs": []
    },
    {
      "cell_type": "markdown",
      "source": [
        "## CNN_6Blocks"
      ],
      "metadata": {
        "id": "pVb7UY93kZkZ"
      }
    },
    {
      "cell_type": "code",
      "source": [
        "### 6개 블록 CNN \n",
        "\n",
        "\n",
        "import os\n",
        "import tensorflow as tf\n",
        "import keras\n",
        "\n",
        "from tensorflow.keras import layers, models, backend, utils, metrics\n",
        "from tensorflow.keras.preprocessing.image import ImageDataGenerator"
      ],
      "metadata": {
        "id": "BYYwLJJ6kdlC"
      },
      "execution_count": null,
      "outputs": []
    },
    {
      "cell_type": "code",
      "source": [
        "#코랩 마운트\n",
        "from google.colab import drive\n",
        "drive.mount('/content/drive/', force_remount=True)"
      ],
      "metadata": {
        "id": "ZH70RjdAkf98",
        "colab": {
          "base_uri": "https://localhost:8080/"
        },
        "outputId": "40be28dc-9258-483d-a4a1-ba5486dd4564"
      },
      "execution_count": null,
      "outputs": [
        {
          "output_type": "stream",
          "name": "stdout",
          "text": [
            "Mounted at /content/drive/\n"
          ]
        }
      ]
    },
    {
      "cell_type": "code",
      "source": [
        "#cd /content/drive/MyDrive/face"
      ],
      "metadata": {
        "id": "Hbew-G_nki_P"
      },
      "execution_count": null,
      "outputs": []
    },
    {
      "cell_type": "code",
      "source": [
        "#압축해제\n",
        "#!unzip -qq \"/content/drive/MyDrive/real-vs-fake.zip\""
      ],
      "metadata": {
        "id": "fr-vGc0Rklg3"
      },
      "execution_count": null,
      "outputs": []
    },
    {
      "cell_type": "code",
      "source": [
        "#개수 확인(14만개 사용)\n",
        "from glob import glob\n",
        "filepaths1 = list(glob('/content/drive/MyDrive/face/train/real/*.jpg'))\n",
        "filepaths2 = list(glob('/content/drive/MyDrive/face/test/real/*.jpg'))\n",
        "filepaths3 = list(glob('/content/drive/MyDrive/face/valid/real/*.jpg'))\n",
        "print(len(filepaths1), len(filepaths2), len(filepaths3))"
      ],
      "metadata": {
        "id": "l3Eyqg33knfe"
      },
      "execution_count": null,
      "outputs": []
    },
    {
      "cell_type": "code",
      "source": [
        "#데이터 경로 지정 등 설정\n",
        "from tensorflow.keras.preprocessing.image import ImageDataGenerator\n",
        "\n",
        "image_gen = ImageDataGenerator()\n",
        "\n",
        "path = '/content/drive/My Drive/face/'\n",
        "\n",
        "train_generator = image_gen.flow_from_directory(\n",
        "    path + 'train/',\n",
        "    target_size=(224, 224),\n",
        "    batch_size=64,\n",
        "    color_mode='rgb',\n",
        "    class_mode='binary'\n",
        ")\n",
        "\n",
        "valid_generator = image_gen.flow_from_directory(\n",
        "    path + 'valid/',\n",
        "    target_size=(224, 224),\n",
        "    batch_size=64,\n",
        "    color_mode='rgb',\n",
        "    class_mode='binary'\n",
        ")\n",
        "\n",
        "test_generator = image_gen.flow_from_directory(\n",
        "    path + 'test/',\n",
        "    target_size=(224, 224),\n",
        "    batch_size=64,\n",
        "    color_mode='rgb',\n",
        "    shuffle = False,\n",
        "    class_mode='binary'\n",
        ")"
      ],
      "metadata": {
        "id": "dTaBfnC9kruF"
      },
      "execution_count": null,
      "outputs": []
    },
    {
      "cell_type": "code",
      "source": [
        "#구조 생성\n",
        "model = models.Sequential()\n",
        "\n",
        "model.add(\n",
        "    layers.Conv2D(32, (3, 3),activation='relu', input_shape=(224, 224, 3))\n",
        ")\n",
        "\n",
        "model.add(layers.MaxPooling2D((2, 2)))\n",
        "model.add(layers.Conv2D(64, (3, 3), activation='relu'))\n",
        "model.add(layers.MaxPooling2D((2, 2)))\n",
        "model.add(layers.Conv2D(128, (3, 3), activation='relu'))\n",
        "model.add(layers.MaxPooling2D((2, 2)))\n",
        "model.add(layers.Conv2D(256, (3, 3), activation='relu'))\n",
        "model.add(layers.MaxPooling2D((2, 2)))\n",
        "model.add(layers.Conv2D(256, (3, 3), activation='relu'))\n",
        "model.add(layers.MaxPooling2D((2, 2)))\n",
        "model.add(layers.Conv2D(512, (3, 3), activation='relu'))\n",
        "model.add(layers.MaxPooling2D((2, 2)))\n",
        "model.add(layers.Flatten())\n",
        "model.add(layers.Dense(512, activation='relu'))\n",
        "model.add(layers.Dense(1, activation='sigmoid'))\n",
        "model.summary()\n",
        "\n",
        "model.compile(\n",
        "    optimizer = 'adam', \n",
        "    loss = 'binary_crossentropy', \n",
        "    metrics = [\n",
        "        'accuracy'\n",
        "    ]\n",
        ")\n",
        "\n",
        "model.summary()"
      ],
      "metadata": {
        "id": "BN1_ehqfktmu"
      },
      "execution_count": null,
      "outputs": []
    },
    {
      "cell_type": "code",
      "source": [
        "#모델 학습\n",
        "train_steps = 100000//64\n",
        "valid_steps = 20000//64\n",
        "\n",
        "hist = model.fit(\n",
        "    train_generator,\n",
        "    epochs=20,\n",
        "    validation_data=valid_generator,\n",
        "    validation_steps=valid_steps\n",
        ")"
      ],
      "metadata": {
        "id": "ygKUlJJhkvXz"
      },
      "execution_count": null,
      "outputs": []
    },
    {
      "cell_type": "code",
      "source": [
        "#acc 및 loss plot\n",
        "import matplotlib.pyplot as plt\n",
        "import seaborn as sns\n",
        "from sklearn import metrics\n",
        "\n",
        "fig, ax = plt.subplots(1, 4, figsize=(20, 3))\n",
        "ax = ax.ravel()\n",
        "\n",
        "for i, met in enumerate([ \"accuracy\", \"loss\"]):\n",
        "    ax[i].plot(hist.history[met])\n",
        "    ax[i].plot(hist.history[\"val_\" + met])\n",
        "    ax[i].set_title(\"Model {}\".format(met))\n",
        "    ax[i].set_xlabel(\"epochs\")\n",
        "    ax[i].set_ylabel(met)\n",
        "    ax[i].legend([\"train\", \"val\"])"
      ],
      "metadata": {
        "id": "OxbbcxcPkxbN"
      },
      "execution_count": null,
      "outputs": []
    },
    {
      "cell_type": "code",
      "source": [
        "#test 평가\n",
        "model.evaluate(test_generator)"
      ],
      "metadata": {
        "id": "35TRYk1BkzhF"
      },
      "execution_count": null,
      "outputs": []
    },
    {
      "cell_type": "markdown",
      "source": [
        "## VGG"
      ],
      "metadata": {
        "id": "T9oXNmXMk1HR"
      }
    },
    {
      "cell_type": "code",
      "source": [
        "## VGG"
      ],
      "metadata": {
        "id": "_57qYxUEk2hp"
      },
      "execution_count": null,
      "outputs": []
    },
    {
      "cell_type": "code",
      "source": [
        "import os\n",
        "import tensorflow as tf\n",
        "import keras\n",
        "\n",
        "from tensorflow.keras import layers, models, backend, utils, metrics"
      ],
      "metadata": {
        "id": "WUIQT-1Jk6SN"
      },
      "execution_count": null,
      "outputs": []
    },
    {
      "cell_type": "code",
      "source": [
        "#코랩 마운트\n",
        "#from google.colab import drive\n",
        "#drive.mount('/content/drive/', force_remount=True)"
      ],
      "metadata": {
        "id": "CJLVUCqik9Il"
      },
      "execution_count": null,
      "outputs": []
    },
    {
      "cell_type": "code",
      "source": [
        "#%cd /content/drive/MyDrive/face"
      ],
      "metadata": {
        "id": "DMMKbsx8lA1i"
      },
      "execution_count": null,
      "outputs": []
    },
    {
      "cell_type": "code",
      "source": [
        "#압축해제\n",
        "#!unzip -qq \"/content/drive/MyDrive/face/real-vs-fake.zip\""
      ],
      "metadata": {
        "id": "_W5DnccllC2u"
      },
      "execution_count": null,
      "outputs": []
    },
    {
      "cell_type": "code",
      "source": [
        "#VGG import 및 입력크기 지정\n",
        "from keras.applications.vgg16 import VGG16\n",
        "\n",
        "INPUT_SIZE = 224\n",
        "vgg16 = VGG16(include_top=False, weights='imagenet', input_shape=(INPUT_SIZE, INPUT_SIZE,3))"
      ],
      "metadata": {
        "id": "kwbvDn4jlEdz"
      },
      "execution_count": null,
      "outputs": []
    },
    {
      "cell_type": "code",
      "source": [
        "#가져와서(전이학습) 고정된 층 학습시키않도록 함\n",
        "for layer in vgg16.layers:\n",
        "  layer.trainable = False"
      ],
      "metadata": {
        "id": "Sh5HadwplGP-"
      },
      "execution_count": null,
      "outputs": []
    },
    {
      "cell_type": "code",
      "source": [
        "#구조 생성\n",
        "from keras.models import Model\n",
        "from keras.layers import Dense, Flatten\n",
        "\n",
        "input_ = vgg16.input\n",
        "output_ = vgg16(input_)\n",
        "last_layer = Flatten(name='flatten')(output_)\n",
        "last_layer = Dense(1, activation='sigmoid')(last_layer)\n",
        "model = Model(inputs=input_, outputs=last_layer)"
      ],
      "metadata": {
        "id": "wbW6um-9lH-q"
      },
      "execution_count": null,
      "outputs": []
    },
    {
      "cell_type": "code",
      "source": [
        "# Define hyperparameters\n",
        "INPUT_SIZE = 224 \n",
        "BATCH_SIZE = 16\n",
        "STEPS_PER_EPOCH = 200\n",
        "EPOCHS = 10"
      ],
      "metadata": {
        "id": "MJ8kvgFzlMtz"
      },
      "execution_count": null,
      "outputs": []
    },
    {
      "cell_type": "code",
      "source": [
        "'''#개수 확인(14만개 사용)\n",
        "from glob import glob\n",
        "filepaths1 = list(glob('/content/drive/MyDrive/face/train/real/*.jpg'))\n",
        "filepaths2 = list(glob('/content/drive/MyDrive/face/test/real/*.jpg'))\n",
        "filepaths3 = list(glob('/content/drive/MyDrive/face/valid/real/*.jpg'))\n",
        "print(len(filepaths1), len(filepaths2), len(filepaths3))'''"
      ],
      "metadata": {
        "id": "Z8QELo1DlSwu"
      },
      "execution_count": null,
      "outputs": []
    },
    {
      "cell_type": "code",
      "source": [
        "#데이터 경로 지정 등 설정\n",
        "from keras.preprocessing.image import ImageDataGenerator\n",
        "path = '/content/drive/MyDrive/face/'\n",
        "\n",
        "model.compile(optimizer = 'adam', loss = 'binary_crossentropy', metrics = ['accuracy'])\n",
        "\n",
        "training_data_generator = ImageDataGenerator(rescale = 1./255)\n",
        "validing_data_generator = ImageDataGenerator(rescale = 1./255)\n",
        "testing_data_generator = ImageDataGenerator(rescale = 1./255)\n",
        "\n",
        "train_generator = training_data_generator.flow_from_directory(\n",
        "    path + 'train/',\n",
        "    target_size=(INPUT_SIZE, INPUT_SIZE),\n",
        "    batch_size=BATCH_SIZE,\n",
        "    class_mode='binary'\n",
        ")\n",
        "\n",
        "valid_generator = validing_data_generator.flow_from_directory(\n",
        "    path + 'valid/',\n",
        "    target_size=(INPUT_SIZE, INPUT_SIZE),\n",
        "    batch_size=BATCH_SIZE,\n",
        "    class_mode='binary'\n",
        ")\n",
        "\n",
        "test_generator = testing_data_generator.flow_from_directory(\n",
        "    path + 'test/',\n",
        "    target_size=(INPUT_SIZE, INPUT_SIZE),\n",
        "    batch_size=BATCH_SIZE,\n",
        "    shuffle = False,\n",
        "    class_mode='binary'\n",
        ")"
      ],
      "metadata": {
        "id": "_McqLR-1lYP_"
      },
      "execution_count": null,
      "outputs": []
    },
    {
      "cell_type": "code",
      "source": [
        "#모델 학습\n",
        "train_steps = 100000//16\n",
        "valid_steps = 20000//16\n",
        "\n",
        "hist = model.fit(\n",
        "    train_generator,\n",
        "    steps_per_epoch = STEPS_PER_EPOCH,\n",
        "    epochs=EPOCHS,\n",
        "    validation_data=valid_generator,\n",
        "    validation_steps=valid_steps\n",
        ")"
      ],
      "metadata": {
        "id": "e906KVAqla_j"
      },
      "execution_count": null,
      "outputs": []
    },
    {
      "cell_type": "code",
      "source": [
        "#acc 및 loss plot\n",
        "import matplotlib.pyplot as plt\n",
        "import seaborn as sns\n",
        "from sklearn import metrics\n",
        "\n",
        "fig, ax = plt.subplots(1, 4, figsize=(20, 3))\n",
        "ax = ax.ravel()\n",
        "\n",
        "for i, met in enumerate([ \"accuracy\", \"loss\"]):\n",
        "    ax[i].plot(hist.history[met])\n",
        "    ax[i].plot(hist.history[\"val_\" + met])\n",
        "    ax[i].set_title(\"Model {}\".format(met))\n",
        "    ax[i].set_xlabel(\"epochs\")\n",
        "    ax[i].set_ylabel(met)\n",
        "    ax[i].legend([\"train\", \"val\"])"
      ],
      "metadata": {
        "id": "frkAMLL0lhNe"
      },
      "execution_count": null,
      "outputs": []
    },
    {
      "cell_type": "code",
      "source": [
        "model.save(\"VGG\")"
      ],
      "metadata": {
        "id": "5KIgs-DpliRv"
      },
      "execution_count": null,
      "outputs": []
    },
    {
      "cell_type": "code",
      "source": [
        "from tensorflow.keras.models import load_model\n",
        "model = load_model(\"VGG\")"
      ],
      "metadata": {
        "id": "W2Tdo0wpljvg"
      },
      "execution_count": null,
      "outputs": []
    },
    {
      "cell_type": "code",
      "source": [
        "#test 평가\n",
        "model.evaluate(test_generator)"
      ],
      "metadata": {
        "id": "uvBOL7oQllHM"
      },
      "execution_count": null,
      "outputs": []
    },
    {
      "cell_type": "markdown",
      "source": [
        "## DenseNet"
      ],
      "metadata": {
        "id": "8Q4MjXgRlnAM"
      }
    },
    {
      "cell_type": "code",
      "source": [
        "### densenet \n",
        "import os\n",
        "import tensorflow as tf\n",
        "import keras\n",
        "\n",
        "from tensorflow.keras import layers, models, backend, utils, metrics\n",
        "from tensorflow.keras.preprocessing.image import ImageDataGenerator"
      ],
      "metadata": {
        "id": "aijASJ9ClsYg"
      },
      "execution_count": null,
      "outputs": []
    },
    {
      "cell_type": "code",
      "source": [
        "#코랩 마운트\n",
        "#from google.colab import drive\n",
        "#drive.mount('/content/drive/', force_remount=True)"
      ],
      "metadata": {
        "id": "Y2LvSCRtluKC"
      },
      "execution_count": null,
      "outputs": []
    },
    {
      "cell_type": "code",
      "source": [
        "%cd /content/drive/MyDrive/face2"
      ],
      "metadata": {
        "id": "aHpQO3Lil49V"
      },
      "execution_count": null,
      "outputs": []
    },
    {
      "cell_type": "code",
      "source": [
        "#압축해제\n",
        "!unzip -qq \"/content/drive/MyDrive/r-vs-f.zip\""
      ],
      "metadata": {
        "id": "kVymlhcYl7fs"
      },
      "execution_count": null,
      "outputs": []
    },
    {
      "cell_type": "code",
      "source": [
        "#개수 확인(14만개 중 1/10사용)\n",
        "from glob import glob\n",
        "filepaths1 = list(glob('/content/drive/MyDrive/face/train/real/*.jpg'))\n",
        "filepaths2 = list(glob('/content/drive/MyDrive/face/test/real/*.jpg'))\n",
        "filepaths3 = list(glob('/content/drive/MyDrive/face/valid/real/*.jpg'))\n",
        "print(len(filepaths1), len(filepaths2), len(filepaths3))"
      ],
      "metadata": {
        "id": "vyiJECrEl_Rm"
      },
      "execution_count": null,
      "outputs": []
    },
    {
      "cell_type": "code",
      "source": [
        "#데이터 경로 지정 등 설정\n",
        "from tensorflow.keras.preprocessing.image import ImageDataGenerator\n",
        "\n",
        "image_gen = ImageDataGenerator()\n",
        "\n",
        "path = '/content/drive/My Drive/face/'\n",
        "\n",
        "train_generator = image_gen.flow_from_directory(\n",
        "    path + 'train/',\n",
        "    target_size=(224, 224),\n",
        "    batch_size=64,\n",
        "    color_mode='rgb',\n",
        "    class_mode='binary'\n",
        ")\n",
        "\n",
        "valid_generator = image_gen.flow_from_directory(\n",
        "    path + 'valid/',\n",
        "    target_size=(224, 224),\n",
        "    batch_size=64,\n",
        "    color_mode='rgb',\n",
        "    class_mode='binary'\n",
        ")\n",
        "\n",
        "test_generator = image_gen.flow_from_directory(\n",
        "    path + 'test/',\n",
        "    target_size=(224, 224),\n",
        "    batch_size=64,\n",
        "    color_mode='rgb',\n",
        "    shuffle = False,\n",
        "    class_mode='binary'\n",
        ")"
      ],
      "metadata": {
        "id": "PtP4j6_5mDXt"
      },
      "execution_count": null,
      "outputs": []
    },
    {
      "cell_type": "code",
      "source": [
        "#densenet import 및 모델링\n",
        "from tensorflow.keras.applications import DenseNet121\n",
        "\n",
        "densenet = DenseNet121( weights='imagenet', include_top=False, input_shape=(224,224,3) )\n",
        "\n",
        "model = models.Sequential()\n",
        "\n",
        "model = models.Sequential([ \n",
        "        densenet,\n",
        "        layers.GlobalAveragePooling2D(),\n",
        "        layers.Dense(1, activation='sigmoid')\n",
        "    ])\n",
        "\n",
        "model.compile(loss='binary_crossentropy', optimizer='Adam', metrics=['accuracy'])\n",
        "\n",
        "model.summary()"
      ],
      "metadata": {
        "id": "BFpWAxtbmIKJ"
      },
      "execution_count": null,
      "outputs": []
    },
    {
      "cell_type": "code",
      "source": [
        "#모델 학습\n",
        "train_steps = 10000//64\n",
        "valid_steps = 2000//64\n",
        "\n",
        "hist = model.fit(\n",
        "    train_generator,\n",
        "    epochs=20,\n",
        "    validation_data=valid_generator,\n",
        "    validation_steps=valid_steps\n",
        ")"
      ],
      "metadata": {
        "id": "VWOkiN99mKFV"
      },
      "execution_count": null,
      "outputs": []
    },
    {
      "cell_type": "code",
      "source": [
        "#acc 및 loss plot\n",
        "import matplotlib.pyplot as plt\n",
        "import seaborn as sns\n",
        "from sklearn import metrics\n",
        "\n",
        "fig, ax = plt.subplots(1, 4, figsize=(20, 3))\n",
        "ax = ax.ravel()\n",
        "\n",
        "for i, met in enumerate([ \"accuracy\", \"loss\"]):\n",
        "    ax[i].plot(hist.history[met])\n",
        "    ax[i].plot(hist.history[\"val_\" + met])\n",
        "    ax[i].set_title(\"Model {}\".format(met))\n",
        "    ax[i].set_xlabel(\"epochs\")\n",
        "    ax[i].set_ylabel(met)\n",
        "    ax[i].legend([\"train\", \"val\"])"
      ],
      "metadata": {
        "id": "elasat6QmPKV"
      },
      "execution_count": null,
      "outputs": []
    },
    {
      "cell_type": "code",
      "source": [
        "#test 평가\n",
        "model.evaluate(test_generator)"
      ],
      "metadata": {
        "id": "5dHyeKzjmRSH"
      },
      "execution_count": null,
      "outputs": []
    },
    {
      "cell_type": "code",
      "source": [
        "#이미지 대입\n",
        "import numpy as np\n",
        "import matplotlib.pyplot as plt\n",
        "import keras.utils as image\n",
        "\n",
        "test_image = image.load_img('/content/drive/MyDrive/11/fake2.jpg', target_size=(224, 224, 3))\n",
        "plt.imshow(test_image)\n",
        "\n",
        "fix_img = image.img_to_array(test_image)\n",
        "fix_img = np.expand_dims(test_image, axis=0)"
      ],
      "metadata": {
        "id": "x0ehJV2UmSoj"
      },
      "execution_count": null,
      "outputs": []
    },
    {
      "cell_type": "code",
      "source": [
        "#사진이 real인지 fake인지 출력\n",
        "preds = model.predict(fix_img)\n",
        "pct = np.max(preds)\n",
        "if preds < 0.5:\n",
        "    print('The Prediction of the sample is: It Is fake')\n",
        "else:\n",
        "    print('Prediction is real')\n",
        "plt.imshow(test_image)"
      ],
      "metadata": {
        "id": "KN7jKuCNmUNF"
      },
      "execution_count": null,
      "outputs": []
    },
    {
      "cell_type": "code",
      "source": [
        "#혼동행렬\n",
        "y_pred = model.predict(test_generator)\n",
        "y_pred = (y_pred > 0.5).astype(np.int)\n",
        "\n",
        "plt.figure(figsize = (8,5))\n",
        "sns.heatmap(metrics.confusion_matrix(test_generator.classes, y_pred.round()), annot = True,fmt=\"d\",cmap = \"Blues\")\n",
        "plt.show()"
      ],
      "metadata": {
        "id": "OIIKgHqmmWAt"
      },
      "execution_count": null,
      "outputs": []
    },
    {
      "cell_type": "code",
      "source": [
        "#AUC\n",
        "print(\"ROC-AUC Score:\", metrics.roc_auc_score(test_generator.classes, y_pred))\n",
        "print(\"AP Score:\", metrics.average_precision_score(test_generator.classes, y_pred))\n",
        "\n",
        "print(metrics.classification_report(test_generator.classes, y_pred > 0.5))"
      ],
      "metadata": {
        "id": "I1I03pwZmXNq"
      },
      "execution_count": null,
      "outputs": []
    }
  ]
}